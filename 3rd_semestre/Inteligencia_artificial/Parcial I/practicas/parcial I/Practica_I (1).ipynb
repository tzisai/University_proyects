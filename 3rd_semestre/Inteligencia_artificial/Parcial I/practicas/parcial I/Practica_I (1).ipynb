{
  "nbformat": 4,
  "nbformat_minor": 0,
  "metadata": {
    "colab": {
      "provenance": []
    },
    "kernelspec": {
      "name": "python3",
      "display_name": "Python 3"
    },
    "language_info": {
      "name": "python"
    }
  },
  "cells": [
    {
      "cell_type": "markdown",
      "source": [
        "##Universidad Autonoma de Aguascalientes\n",
        "##Depoartamento de Ciencias de la Computacion\n",
        "##Carrera Ingenieria en Computacopn Inteligente\n",
        "##Curso Inteligencia Artificial (McCollouc Pitts)\n",
        "##Maestro: Dr. Francisco Javier Luna Rosas\n",
        "##Alumno: Martin Isai Nuñez Villeda\n",
        "##semestre :Agosto_Diciembre del 2024"
      ],
      "metadata": {
        "id": "X8Ok9iE-BDTF"
      }
    },
    {
      "cell_type": "markdown",
      "source": [
        "Insertamos la librerias necesarias"
      ],
      "metadata": {
        "id": "E5S7p7YfB9jC"
      }
    },
    {
      "cell_type": "code",
      "execution_count": 2,
      "metadata": {
        "id": "hNKId9bOA-oD"
      },
      "outputs": [],
      "source": [
        "import numpy as np\n"
      ]
    },
    {
      "cell_type": "markdown",
      "source": [
        "Definimos la funcion de la neurona de mcllouch_pits dentro de ella, el umbral ,la suma ponderada y la salida de la funcion"
      ],
      "metadata": {
        "id": "GVyRZE9LCB_q"
      }
    },
    {
      "cell_type": "code",
      "source": [
        "def mccllouch_pitts_OR (x1,x2):\n",
        "    #pesos de entrada\n",
        "    w1,w2=1,1\n",
        "\n",
        "    #umbral\n",
        "    teta=1\n",
        "\n",
        "    #suma ponderada de entradas\n",
        "    weight_sum=x1*w1 +x2*w2\n",
        "\n",
        "    #salida de la celula\n",
        "    if weight_sum>=teta:\n",
        "        return 1\n",
        "    else:\n",
        "        return 0"
      ],
      "metadata": {
        "id": "k8a0FU2-Bu3m"
      },
      "execution_count": 4,
      "outputs": []
    },
    {
      "cell_type": "markdown",
      "source": [
        "llamamos a la funcion dandoles los valores de entrada esperados para observar su salidas"
      ],
      "metadata": {
        "id": "7O_617Z0CdiF"
      }
    },
    {
      "cell_type": "code",
      "source": [
        "print(mccllouch_pitts_OR(0,0))\n",
        "print(mccllouch_pitts_OR(0,1))\n",
        "print(mccllouch_pitts_OR(1,0))\n",
        "print(mccllouch_pitts_OR(1,1))"
      ],
      "metadata": {
        "colab": {
          "base_uri": "https://localhost:8080/"
        },
        "id": "VEVcC7_5B57d",
        "outputId": "796f8ac1-0d6a-48c4-ccdc-5b02cb91659f"
      },
      "execution_count": 5,
      "outputs": [
        {
          "output_type": "stream",
          "name": "stdout",
          "text": [
            "0\n",
            "1\n",
            "1\n",
            "1\n"
          ]
        }
      ]
    },
    {
      "cell_type": "markdown",
      "source": [
        "Conclusiones:Creamos una neurona de mccllouch_pitts que simule una compuerta logica OR asignandoles los pesos de manera que las salidas sean las deseadas.\n",
        "\n",
        "\n",
        "Referencias:\n",
        "Russell S. J., Norvig P. (2020). Artificial Intelligence: A Modern Approach. Prentice-Hall, 4th Edition, Englewood Cliffs, NJ, 2020"
      ],
      "metadata": {
        "id": "nBMA65-dDx7E"
      }
    }
  ]
}