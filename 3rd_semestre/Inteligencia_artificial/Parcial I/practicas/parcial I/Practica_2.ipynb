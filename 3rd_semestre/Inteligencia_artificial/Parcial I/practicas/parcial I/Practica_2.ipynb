{
  "nbformat": 4,
  "nbformat_minor": 0,
  "metadata": {
    "colab": {
      "provenance": []
    },
    "kernelspec": {
      "name": "python3",
      "display_name": "Python 3"
    },
    "language_info": {
      "name": "python"
    }
  },
  "cells": [
    {
      "cell_type": "markdown",
      "source": [
        "##Universidad Autonoma de Aguascalientes\n",
        "##Depoartamento de Ciencias de la Computacion\n",
        "##Carrera Ingenieria en Computacopn Inteligente\n",
        "##Curso Inteligencia Artificial (McCollouc Pitts)\n",
        "##Maestro: Dr. Francisco Javier Luna Rosas\n",
        "##Alumno: Martin Isai Nuñez Villeda\n",
        "##semestre :Agosto_Diciembre del 2024# Nueva sección"
      ],
      "metadata": {
        "id": "PTX3iV__FxYn"
      }
    },
    {
      "cell_type": "markdown",
      "source": [
        "##Practica 2 :Crear una inteligencia artificial y entrenar de manera que se copmorte como una compuerta NAD de dos entradas\n",
        "#importar librerias necesarias"
      ],
      "metadata": {
        "id": "38H7oxgfF2Id"
      }
    },
    {
      "cell_type": "code",
      "execution_count": null,
      "metadata": {
        "id": "R_RQabA5FnFE"
      },
      "outputs": [],
      "source": [
        "import numpy as np"
      ]
    },
    {
      "cell_type": "markdown",
      "source": [
        "Definimos la funcion de la neurona de mclluoch_pitts pero donde se comporte como la compurta logica AND"
      ],
      "metadata": {
        "id": "bFyUAzgdF5p2"
      }
    },
    {
      "cell_type": "code",
      "source": [
        "def mcolluch_pitts_AND (x1,x2):\n",
        "    w1,w2=1,1\n",
        "\n",
        "    #Umbral\n",
        "    teta=2\n",
        "\n",
        "    #suma ponderada de las entradas\n",
        "    weight_Sum= x1*w1 + x2*w2\n",
        "\n",
        "    #salida de la celula\n",
        "    if weight_Sum>=teta:\n",
        "        return 1\n",
        "    else:\n",
        "        return 0"
      ],
      "metadata": {
        "id": "KhtYArWCGHmn"
      },
      "execution_count": null,
      "outputs": []
    },
    {
      "cell_type": "markdown",
      "source": [
        "Llamamos a la funcion para probar la neurona y las salidas esperadas"
      ],
      "metadata": {
        "id": "FszbVyPpGKzK"
      }
    },
    {
      "cell_type": "code",
      "source": [
        "  print(mcolluch_pitts_AND(0,0)) #salida 0\n",
        "    print(mcolluch_pitts_AND(0,1)) #salida 0\n",
        "    print(mcolluch_pitts_AND(1,0)) #salida 0\n",
        "    print(mcolluch_pitts_AND(1,1)) #salida 1"
      ],
      "metadata": {
        "id": "kFpDb24tGP0H"
      },
      "execution_count": null,
      "outputs": []
    },
    {
      "cell_type": "markdown",
      "source": [
        "  #Conclusiones\n",
        "    #En esta practica entrenamos una neurona Mcoloumb pitts entrenamos una neurona de manera que se comporte como jna compouerta logica\n",
        "    #AND de 2 entradas.\n",
        "    #Los pesos (w) fueren elegidos y teta fueron elegidos totalmente\n",
        "    aleatorios. al probar la netuona de mccolucc-Pitts par el\n",
        "    #and logico ,demostramos como se ouede resolver cualquier problema aritmetico logico"
      ],
      "metadata": {
        "id": "6VQKXoznGVIe"
      }
    }
  ]
}