{
  "nbformat": 4,
  "nbformat_minor": 0,
  "metadata": {
    "colab": {
      "provenance": []
    },
    "kernelspec": {
      "name": "python3",
      "display_name": "Python 3"
    },
    "language_info": {
      "name": "python"
    }
  },
  "cells": [
    {
      "cell_type": "markdown",
      "source": [
        "##Universidad Autonoma de Aguascalientes\n",
        "##Depoartamento de Ciencias de la Computacion\n",
        "##Carrera Ingenieria en Computacopn Inteligente\n",
        "##Curso Inteligencia Artificial (McCollouc Pitts)\n",
        "##Maestro: Dr. Francisco Javier Luna Rosas\n",
        "##Alumno: Martin Isai Nuñez Villeda\n",
        "##semestre :Agosto_Diciembre del 2024\n",
        "\n"
      ],
      "metadata": {
        "id": "EkR6LJpTINJA"
      }
    },
    {
      "cell_type": "markdown",
      "source": [
        "insertamos la librerias necesarias"
      ],
      "metadata": {
        "id": "QogAMXv5IMpn"
      }
    },
    {
      "cell_type": "code",
      "execution_count": 1,
      "metadata": {
        "id": "VmdxeD9pIJIn"
      },
      "outputs": [],
      "source": [
        "import numpy as np\n",
        "import matplotlib.pyplot as plt\n"
      ]
    },
    {
      "cell_type": "markdown",
      "source": [
        "Creamos un array y matriz donde el perceptron recuperar los datos que usara para trabajar"
      ],
      "metadata": {
        "id": "5DpVUSirIdPD"
      }
    },
    {
      "cell_type": "code",
      "source": [
        "personas = np.array ([[0.3, 0.4], [0.4, 0.3],\n",
        "                    [0.3, 0.2], [0.4, 0.1],\n",
        "                    [0.5, 0.4], [0.4, 0.8],\n",
        "                    [0.6, 0.8], [0.5, 0.6],\n",
        "                    [0.7, 0.6], [0.8,0.5]])\n",
        "\n",
        "clases =np.array([0,0,0,0,0,1,1,1,1,1])"
      ],
      "metadata": {
        "id": "eoS2u2ghIoQ3"
      },
      "execution_count": 2,
      "outputs": []
    },
    {
      "cell_type": "markdown",
      "source": [
        "Definimos la funcion de activacion"
      ],
      "metadata": {
        "id": "9yea78odIu2L"
      }
    },
    {
      "cell_type": "code",
      "source": [
        "def activacion (pesos,x,b):\n",
        "    z=pesos * x\n",
        "    if z.sum() + b >0:\n",
        "        return 1\n",
        "    else:\n",
        "        return 0"
      ],
      "metadata": {
        "id": "PyvlcR9kIuXN"
      },
      "execution_count": 3,
      "outputs": []
    },
    {
      "cell_type": "markdown",
      "source": [
        "Generamos los pesos y los bias"
      ],
      "metadata": {
        "id": "Q271pg2uI1Kq"
      }
    },
    {
      "cell_type": "code",
      "source": [
        "pesos=np.random.uniform(-1,1,size=2)\n",
        "b = np.random.uniform(-1,1)\n",
        "pesos,b,activacion(pesos,[0.5,0.6],b)"
      ],
      "metadata": {
        "colab": {
          "base_uri": "https://localhost:8080/"
        },
        "id": "CS2utOo6I4Ow",
        "outputId": "45837f52-991c-4925-924b-660e63459ba5"
      },
      "execution_count": 4,
      "outputs": [
        {
          "output_type": "execute_result",
          "data": {
            "text/plain": [
              "(array([ 0.41945422, -0.4490469 ]), -0.5605139731611068, 0)"
            ]
          },
          "metadata": {},
          "execution_count": 4
        }
      ]
    },
    {
      "cell_type": "markdown",
      "source": [
        "insertamos el algoritmo del perceptron"
      ],
      "metadata": {
        "id": "m0pQ5S2MI6XI"
      }
    },
    {
      "cell_type": "code",
      "source": [
        "pesos = np.random.uniform(-1,1,size=2)\n",
        "b = np.random.uniform(-1,1)\n",
        "tasa_aprend=0.1\n",
        "epocas = 100\n",
        "\n",
        "for epoca in range (epocas):\n",
        "    error_total=0\n",
        "    for i in range (len(personas)):\n",
        "        prediccion = activacion(pesos,personas[i],b)\n",
        "        error = clases [i] - prediccion\n",
        "        error_total+= error**2\n",
        "\n",
        "        pesos[0]+=tasa_aprend*personas[i][0]*error\n",
        "        pesos[1]+=tasa_aprend*personas[i][1]*error\n",
        "\n",
        "        b+= tasa_aprend*error\n",
        "\n",
        "    print(error_total,end=\" \")"
      ],
      "metadata": {
        "colab": {
          "base_uri": "https://localhost:8080/"
        },
        "id": "l4Enm4dTI6HG",
        "outputId": "606088d3-0648-4058-b620-a0451e03a9fc"
      },
      "execution_count": 5,
      "outputs": [
        {
          "output_type": "stream",
          "name": "stdout",
          "text": [
            "6 5 5 4 5 4 3 4 4 3 4 3 2 2 3 2 2 2 1 2 2 2 1 0 0 0 0 0 0 0 0 0 0 0 0 0 0 0 0 0 0 0 0 0 0 0 0 0 0 0 0 0 0 0 0 0 0 0 0 0 0 0 0 0 0 0 0 0 0 0 0 0 0 0 0 0 0 0 0 0 0 0 0 0 0 0 0 0 0 0 0 0 0 0 0 0 0 0 0 0 "
          ]
        }
      ]
    },
    {
      "cell_type": "markdown",
      "source": [
        "Corremos el algoritmo"
      ],
      "metadata": {
        "id": "phO_sO8xJBo_"
      }
    },
    {
      "cell_type": "code",
      "source": [
        "pesos,b,activacion(pesos,[0.3,0.4],b)"
      ],
      "metadata": {
        "colab": {
          "base_uri": "https://localhost:8080/"
        },
        "id": "Z7XBq22rJH6_",
        "outputId": "97112086-7141-4621-c84d-8d0796dd1f70"
      },
      "execution_count": 6,
      "outputs": [
        {
          "output_type": "execute_result",
          "data": {
            "text/plain": [
              "(array([-0.09366173,  0.92727117]), -0.38490897949995173, 0)"
            ]
          },
          "metadata": {},
          "execution_count": 6
        }
      ]
    },
    {
      "cell_type": "markdown",
      "source": [
        "Conclusiones: Usamos el preceptron para clasificar a las personas dependiendo de las entradas y los valores que se le dan para que asi de alguna menera identifique y de una salida deseada."
      ],
      "metadata": {
        "id": "eld24f1nJMgF"
      }
    }
  ]
}