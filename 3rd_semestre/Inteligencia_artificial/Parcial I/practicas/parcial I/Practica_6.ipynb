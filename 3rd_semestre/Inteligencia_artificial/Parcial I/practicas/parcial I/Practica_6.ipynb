{
  "nbformat": 4,
  "nbformat_minor": 0,
  "metadata": {
    "colab": {
      "provenance": []
    },
    "kernelspec": {
      "name": "python3",
      "display_name": "Python 3"
    },
    "language_info": {
      "name": "python"
    }
  },
  "cells": [
    {
      "cell_type": "markdown",
      "source": [
        "# Práctica No. 6.\n",
        "En esta practica cargamos dos clases de la Flor de Iris (setosa y Versicolor). Las caracteristicas que tomaremos en cuenta son: longitud del petalo y longitud del sefalo."
      ],
      "metadata": {
        "id": "8Lqh1Z6PMUaR"
      }
    },
    {
      "cell_type": "markdown",
      "source": [
        "Importamos las librerias correspondientes"
      ],
      "metadata": {
        "id": "1c8j0y9RMfeY"
      }
    },
    {
      "cell_type": "code",
      "execution_count": null,
      "metadata": {
        "id": "tHxeGqvMMLCr"
      },
      "outputs": [],
      "source": [
        "import numpy as np\n",
        "import os\n",
        "import pandas as pd\n",
        "from sklearn.linear_model import Perceptron\n",
        "\n",
        "#cargamos el dataset\n",
        "os.chdir(\"C:\\\\Users\\\\Isai Nuñez\\\\Documents\\\\3er semestres\\\\primer parcial\\\\Inteligencia artificial\\\\Extras\")\n",
        "df = pd.read_csv('iris.csv', delimiter=';', decimal='.')\n",
        "print(df.shape)\n",
        "print(df.head())"
      ]
    },
    {
      "cell_type": "markdown",
      "source": [
        "Extraemos el largo sepal y el largo del petalo en las columnas 0 y 2. Usaremos solo Setosa y Versicolor."
      ],
      "metadata": {
        "id": "vyosxkXRMjwO"
      }
    },
    {
      "cell_type": "code",
      "source": [
        "X = df.iloc[0:100, [0, 2]].values\n",
        "print(X)"
      ],
      "metadata": {
        "id": "GQW6bx4nMok2"
      },
      "execution_count": null,
      "outputs": []
    },
    {
      "cell_type": "markdown",
      "source": [
        "Seleccionamos Setosa y Versicolor."
      ],
      "metadata": {
        "id": "crAjxUmEMriG"
      }
    },
    {
      "cell_type": "code",
      "source": [
        "y = df.iloc[0:100, 4].values\n",
        "print(y)"
      ],
      "metadata": {
        "id": "-6n7sGO-MrNT"
      },
      "execution_count": null,
      "outputs": []
    },
    {
      "cell_type": "markdown",
      "source": [
        "Convertimos etiquetas a numeros."
      ],
      "metadata": {
        "id": "P-TSwFgUM1Q7"
      }
    },
    {
      "cell_type": "code",
      "source": [
        "y = np.where(y == \"setosa\", -1, 1)\n",
        "print(y)"
      ],
      "metadata": {
        "id": "rl58zexlM1I-"
      },
      "execution_count": null,
      "outputs": []
    },
    {
      "cell_type": "markdown",
      "source": [
        "Creamos el perceptron y lo entrenamos para la flor de iris"
      ],
      "metadata": {
        "id": "shE_g-YKNAes"
      }
    },
    {
      "cell_type": "code",
      "source": [
        "perceptron = Perceptron()\n",
        "perceptron.fit(X, y)"
      ],
      "metadata": {
        "id": "xQrx2uMfNBFX"
      },
      "execution_count": null,
      "outputs": []
    },
    {
      "cell_type": "markdown",
      "source": [
        "Predecimos el tipo de flor"
      ],
      "metadata": {
        "id": "f7RVxI4oNDaA"
      }
    },
    {
      "cell_type": "code",
      "source": [
        "perceptron.predict([[5.7, 4.1], [5.1, 1.4]])"
      ],
      "metadata": {
        "id": "o0b4p9jPNGMV"
      },
      "execution_count": null,
      "outputs": []
    },
    {
      "cell_type": "markdown",
      "source": [
        "#Conclusiones\n",
        "En este caso entrenamos al perceptron para poder diferenciar entre los diferentes la flor de iris obteniendo datos de un data set externo y que sea mas facil e intuitivo acceder a esos datos y no tener que escribir todos los datos a mano.\n",
        "Ademas eso tambien muestra de nueva cuenta que podemos tratar estos problemas de separacion lineal (que sean sencillos con el perceptron)"
      ],
      "metadata": {
        "id": "la9xGai1NM9r"
      }
    },
    {
      "cell_type": "markdown",
      "source": [
        "# Referencias\n",
        "Russell S. J., Norvig P. (2020). Artificial Intelligence: A Modern Approach. Prentice-Hall, 4th Edition, Englewood Cliffs, NJ, 2020."
      ],
      "metadata": {
        "id": "f_XYosuzN5nD"
      }
    }
  ]
}