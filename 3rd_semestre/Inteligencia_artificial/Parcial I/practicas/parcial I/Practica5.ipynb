{
  "nbformat": 4,
  "nbformat_minor": 0,
  "metadata": {
    "colab": {
      "provenance": []
    },
    "kernelspec": {
      "name": "python3",
      "display_name": "Python 3"
    },
    "language_info": {
      "name": "python"
    }
  },
  "cells": [
    {
      "cell_type": "markdown",
      "source": [
        "##Universidad Autonoma de Aguascalientes\n",
        "##Depoartamento de Ciencias de la Computacion\n",
        "##Carrera Ingenieria en Computacopn Inteligente\n",
        "##Curso Inteligencia Artificial (McCollouc Pitts)\n",
        "##Maestro: Dr. Francisco Javier Luna Rosas\n",
        "##Alumno: Martin Isai Nuñez Villeda\n",
        "##semestre :Agosto_Diciembre del 2024"
      ],
      "metadata": {
        "id": "fBAQeUIFKO3a"
      }
    },
    {
      "cell_type": "markdown",
      "source": [
        "Insertamos la librerias necesarias"
      ],
      "metadata": {
        "id": "y0cLR_WiKILr"
      }
    },
    {
      "cell_type": "code",
      "execution_count": 1,
      "metadata": {
        "id": "m5pmt4gnJ8Pd"
      },
      "outputs": [],
      "source": [
        "#Librerias\n",
        "import numpy as np\n",
        "import matplotlib.pyplot as plt\n",
        "from sklearn.linear_model import Perceptron"
      ]
    },
    {
      "cell_type": "markdown",
      "source": [
        "Insertamos los datos creando un array"
      ],
      "metadata": {
        "id": "uXDFkTb4KcnW"
      }
    },
    {
      "cell_type": "code",
      "source": [
        "#Generar los datos\n",
        "\n",
        "personas = np.array([[0.3,0.4], [0.4,0.3],\n",
        "                     [0.3,0.2], [0.4,0.1],\n",
        "                     [0.5,0.4], [0.4,0.8],\n",
        "                     [0.6,0.8], [0.5,0.6],\n",
        "                     [0.7,0.6],[0.8,0.5]])"
      ],
      "metadata": {
        "id": "BgUGAR-dKhyL"
      },
      "execution_count": 3,
      "outputs": []
    },
    {
      "cell_type": "markdown",
      "source": [
        "creamo las clases dependiendo del valor 0 o 1 sera si se le da acceso o no"
      ],
      "metadata": {
        "id": "cv3wPE7jKkxN"
      }
    },
    {
      "cell_type": "code",
      "source": [
        "#Definir las clases | 1: aproved , 0: deny\n",
        "\n",
        "clases = np.array ([0,0,0,0,0,1,1,1,1,1])"
      ],
      "metadata": {
        "id": "Mtm1gxjPKr8Z"
      },
      "execution_count": 4,
      "outputs": []
    },
    {
      "cell_type": "markdown",
      "source": [
        "usamos el perceptron de la libreria sklearn"
      ],
      "metadata": {
        "id": "gGkCBp_CKx2x"
      }
    },
    {
      "cell_type": "code",
      "source": [
        "\n",
        "perceptron = Perceptron().fit(personas, clases)\n",
        "perceptron.predict([[0.3,0.4],[0.8,0.5]])"
      ],
      "metadata": {
        "colab": {
          "base_uri": "https://localhost:8080/"
        },
        "id": "CxGRkFcAK8Sn",
        "outputId": "9ae5baf9-b966-446a-ee7a-21c4dc5348a2"
      },
      "execution_count": 5,
      "outputs": [
        {
          "output_type": "execute_result",
          "data": {
            "text/plain": [
              "array([0, 1])"
            ]
          },
          "metadata": {},
          "execution_count": 5
        }
      ]
    },
    {
      "cell_type": "markdown",
      "source": [
        "#Conclusion\n",
        "En base a las entradas los valores que se dio el perceptron predijo y dio las salidas correspondientes segun los valores dados asi podemos observar que miestras se hagtan uso de los datos y restrucciones correswpondientes podemos hacer que el percpetron separe linalmente y hago un buen trabajo."
      ],
      "metadata": {
        "id": "srcftzeDLRMz"
      }
    }
  ]
}