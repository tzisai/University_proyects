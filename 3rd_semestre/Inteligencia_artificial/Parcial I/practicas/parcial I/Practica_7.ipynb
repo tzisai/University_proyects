{
  "cells": [
    {
      "cell_type": "markdown",
      "metadata": {
        "id": "XbXYJMuXQHkW"
      },
      "source": [
        "##Universidad Autonoma de Aguascalientes\n",
        "##Depoartamento de Ciencias de la Computacion\n",
        "##Carrera Ingenieria en Computacopn Inteligente\n",
        "##Curso Inteligencia Artificial (McCollouc Pitts)\n",
        "##Maestro: Dr. Francisco Javier Luna Rosas\n",
        "##Alumno: Martin Isai Nuñez Villeda\n",
        "##semestre :Agosto_Diciembre del 2024\n",
        "##Practica No.6"
      ]
    },
    {
      "cell_type": "markdown",
      "source": [
        "# Insertamos las librerias necesarias"
      ],
      "metadata": {
        "id": "oOjjiYkOQUxZ"
      }
    },
    {
      "cell_type": "code",
      "execution_count": null,
      "metadata": {
        "id": "giQLioacQHkW"
      },
      "outputs": [],
      "source": [
        "import os\n",
        "import pandas as pd\n",
        "import numpy as np\n",
        "from sklearn.model_selection import train_test_split # type: ignore\n",
        "from sklearn.neural_network import MLPClassifier\n",
        "from sklearn.metrics import confusion_matrix\n",
        "\n",
        "#from pandas import DataFrame"
      ]
    },
    {
      "cell_type": "markdown",
      "metadata": {
        "id": "ouxqdvdYQHkX"
      },
      "source": [
        "## Cargamos la DataFrame   "
      ]
    },
    {
      "cell_type": "code",
      "execution_count": null,
      "metadata": {
        "id": "1kgbcvywQHkX",
        "outputId": "18bd53dc-11a2-4acf-b30d-89c95179eafa"
      },
      "outputs": [
        {
          "name": "stdout",
          "output_type": "stream",
          "text": [
            "(150, 5)\n",
            "   s.largo  s.ancho  p.largo  p.ancho    tipo\n",
            "0      5.1      3.5      1.4      0.2  setosa\n",
            "1      4.9      3.0      1.4      0.2  setosa\n",
            "2      4.7      3.2      1.3      0.2  setosa\n",
            "3      4.6      3.1      1.5      0.2  setosa\n",
            "4      5.0      3.6      1.4      0.2  setosa\n"
          ]
        }
      ],
      "source": [
        "os.chdir(\"C:C:\\\\Users\\\\Isai Nuñez\\\\Documents\\\\3er semestres\\\\primer parcial\\\\Inteligencia artificial\\\\Extras\")\n",
        "datos = pd.read_csv('iris.csv', delimiter=';', decimal=\".\")\n",
        "print(datos.shape)\n",
        "print(datos.head())\n",
        "#print(datos.info())"
      ]
    },
    {
      "cell_type": "markdown",
      "metadata": {
        "id": "2a7LxFRwQHkX"
      },
      "source": [
        "## Elimina la variable categorica, deja las variables predictorias en x"
      ]
    },
    {
      "cell_type": "code",
      "execution_count": null,
      "metadata": {
        "id": "wm-lrdRNQHkX",
        "outputId": "f0dd9865-e373-40a4-c315-5f6b2e0cb99b"
      },
      "outputs": [
        {
          "name": "stdout",
          "output_type": "stream",
          "text": [
            "   s.largo  s.ancho  p.largo  p.ancho\n",
            "0      5.1      3.5      1.4      0.2\n",
            "1      4.9      3.0      1.4      0.2\n",
            "2      4.7      3.2      1.3      0.2\n",
            "3      4.6      3.1      1.5      0.2\n",
            "4      5.0      3.6      1.4      0.2\n"
          ]
        }
      ],
      "source": [
        "X = datos.iloc[:,:4];\n",
        "print(X.head())"
      ]
    },
    {
      "cell_type": "markdown",
      "metadata": {
        "id": "2lhjfNAJQHkX"
      },
      "source": [
        "## Deja la variable a predecir en y"
      ]
    },
    {
      "cell_type": "code",
      "execution_count": null,
      "metadata": {
        "id": "wc8oJ8YOQHkX",
        "outputId": "1faa718c-e649-40f3-b536-07a41e3e91a2"
      },
      "outputs": [
        {
          "name": "stdout",
          "output_type": "stream",
          "text": [
            "     tipo\n",
            "0  setosa\n",
            "1  setosa\n",
            "2  setosa\n",
            "3  setosa\n",
            "4  setosa\n"
          ]
        }
      ],
      "source": [
        "y = datos.iloc[:,4:5]\n",
        "print(y.head())"
      ]
    },
    {
      "cell_type": "markdown",
      "metadata": {
        "id": "tKcJ0uivQHkX"
      },
      "source": [
        "## Se separan los datos con el 70% de los datos para entrenamiento y el 30% para el testing"
      ]
    },
    {
      "cell_type": "code",
      "execution_count": null,
      "metadata": {
        "id": "cf7qgV39QHkX"
      },
      "outputs": [],
      "source": [
        "X_train, X_test, y_train, y_test = train_test_split(X,y, train_size = 0.7, random_state = 0)"
      ]
    },
    {
      "cell_type": "markdown",
      "metadata": {
        "id": "_7yCUMI-QHkX"
      },
      "source": [
        "## Mediante el constructpr inicializa la instancia_red\n",
        "\n",
        "### Nota: Por defecto usa 100 nodos en cada capa oculta, \"solver\" es el metodo de optimizacion"
      ]
    },
    {
      "cell_type": "code",
      "execution_count": null,
      "metadata": {
        "id": "ficLkGRHQHkY",
        "outputId": "942c49b9-73c9-4c7d-a1de-7a6173c7f4c2"
      },
      "outputs": [
        {
          "name": "stdout",
          "output_type": "stream",
          "text": [
            "MLPClassifier()\n"
          ]
        }
      ],
      "source": [
        "instancia_red = MLPClassifier()\n",
        "print(instancia_red)"
      ]
    },
    {
      "cell_type": "markdown",
      "metadata": {
        "id": "U8fgRvy-QHkY"
      },
      "source": [
        "## Entrena el modelo llamado al metodo fit"
      ]
    },
    {
      "cell_type": "code",
      "execution_count": null,
      "metadata": {
        "id": "OxKpRyb8QHkY",
        "outputId": "b1db6c45-5bf4-456b-8787-bd7b29e4f9fb"
      },
      "outputs": [
        {
          "name": "stdout",
          "output_type": "stream",
          "text": [
            "['versicolor' 'virginica' 'virginica' 'virginica' 'virginica' 'versicolor'\n",
            " 'virginica' 'versicolor' 'versicolor' 'virginica' 'virginica' 'virginica'\n",
            " 'virginica' 'versicolor' 'virginica' 'versicolor' 'setosa' 'virginica'\n",
            " 'versicolor' 'versicolor' 'versicolor' 'versicolor' 'virginica' 'setosa'\n",
            " 'setosa' 'virginica' 'versicolor' 'setosa' 'setosa' 'versicolor' 'setosa'\n",
            " 'virginica' 'versicolor' 'setosa' 'versicolor' 'virginica' 'versicolor'\n",
            " 'setosa' 'virginica' 'virginica' 'virginica' 'virginica' 'setosa'\n",
            " 'setosa' 'virginica' 'virginica' 'setosa' 'virginica' 'setosa'\n",
            " 'virginica' 'virginica' 'setosa' 'setosa' 'virginica' 'setosa' 'setosa'\n",
            " 'setosa' 'versicolor' 'virginica' 'virginica' 'setosa' 'setosa' 'setosa'\n",
            " 'versicolor' 'versicolor' 'setosa' 'setosa' 'versicolor' 'setosa'\n",
            " 'virginica' 'versicolor' 'virginica' 'versicolor' 'setosa' 'virginica'\n",
            " 'setosa' 'virginica' 'setosa' 'setosa' 'virginica' 'setosa' 'virginica'\n",
            " 'versicolor' 'versicolor' 'versicolor' 'virginica' 'virginica'\n",
            " 'versicolor' 'versicolor' 'setosa' 'versicolor' 'virginica' 'virginica'\n",
            " 'setosa' 'versicolor' 'versicolor' 'versicolor' 'versicolor' 'setosa'\n",
            " 'setosa' 'setosa' 'virginica' 'versicolor' 'virginica' 'setosa']\n",
            "     s.largo  s.ancho  p.largo  p.ancho\n",
            "60       5.0      2.0      3.5      1.0\n",
            "116      6.5      3.0      5.5      1.8\n",
            "144      6.7      3.3      5.7      2.5\n",
            "119      6.0      2.2      5.0      1.5\n",
            "108      6.7      2.5      5.8      1.8\n",
            "..       ...      ...      ...      ...\n",
            "9        4.9      3.1      1.5      0.1\n",
            "103      6.3      2.9      5.6      1.8\n",
            "67       5.8      2.7      4.1      1.0\n",
            "117      7.7      3.8      6.7      2.2\n",
            "47       4.6      3.2      1.4      0.2\n",
            "\n",
            "[105 rows x 4 columns]\n"
          ]
        },
        {
          "name": "stderr",
          "output_type": "stream",
          "text": [
            "c:\\Users\\monts\\anaconda3\\Lib\\site-packages\\sklearn\\neural_network\\_multilayer_perceptron.py:691: ConvergenceWarning: Stochastic Optimizer: Maximum iterations (200) reached and the optimization hasn't converged yet.\n",
            "  warnings.warn(\n"
          ]
        },
        {
          "data": {
            "text/html": [
              "<style>#sk-container-id-1 {\n",
              "  /* Definition of color scheme common for light and dark mode */\n",
              "  --sklearn-color-text: black;\n",
              "  --sklearn-color-line: gray;\n",
              "  /* Definition of color scheme for unfitted estimators */\n",
              "  --sklearn-color-unfitted-level-0: #fff5e6;\n",
              "  --sklearn-color-unfitted-level-1: #f6e4d2;\n",
              "  --sklearn-color-unfitted-level-2: #ffe0b3;\n",
              "  --sklearn-color-unfitted-level-3: chocolate;\n",
              "  /* Definition of color scheme for fitted estimators */\n",
              "  --sklearn-color-fitted-level-0: #f0f8ff;\n",
              "  --sklearn-color-fitted-level-1: #d4ebff;\n",
              "  --sklearn-color-fitted-level-2: #b3dbfd;\n",
              "  --sklearn-color-fitted-level-3: cornflowerblue;\n",
              "\n",
              "  /* Specific color for light theme */\n",
              "  --sklearn-color-text-on-default-background: var(--sg-text-color, var(--theme-code-foreground, var(--jp-content-font-color1, black)));\n",
              "  --sklearn-color-background: var(--sg-background-color, var(--theme-background, var(--jp-layout-color0, white)));\n",
              "  --sklearn-color-border-box: var(--sg-text-color, var(--theme-code-foreground, var(--jp-content-font-color1, black)));\n",
              "  --sklearn-color-icon: #696969;\n",
              "\n",
              "  @media (prefers-color-scheme: dark) {\n",
              "    /* Redefinition of color scheme for dark theme */\n",
              "    --sklearn-color-text-on-default-background: var(--sg-text-color, var(--theme-code-foreground, var(--jp-content-font-color1, white)));\n",
              "    --sklearn-color-background: var(--sg-background-color, var(--theme-background, var(--jp-layout-color0, #111)));\n",
              "    --sklearn-color-border-box: var(--sg-text-color, var(--theme-code-foreground, var(--jp-content-font-color1, white)));\n",
              "    --sklearn-color-icon: #878787;\n",
              "  }\n",
              "}\n",
              "\n",
              "#sk-container-id-1 {\n",
              "  color: var(--sklearn-color-text);\n",
              "}\n",
              "\n",
              "#sk-container-id-1 pre {\n",
              "  padding: 0;\n",
              "}\n",
              "\n",
              "#sk-container-id-1 input.sk-hidden--visually {\n",
              "  border: 0;\n",
              "  clip: rect(1px 1px 1px 1px);\n",
              "  clip: rect(1px, 1px, 1px, 1px);\n",
              "  height: 1px;\n",
              "  margin: -1px;\n",
              "  overflow: hidden;\n",
              "  padding: 0;\n",
              "  position: absolute;\n",
              "  width: 1px;\n",
              "}\n",
              "\n",
              "#sk-container-id-1 div.sk-dashed-wrapped {\n",
              "  border: 1px dashed var(--sklearn-color-line);\n",
              "  margin: 0 0.4em 0.5em 0.4em;\n",
              "  box-sizing: border-box;\n",
              "  padding-bottom: 0.4em;\n",
              "  background-color: var(--sklearn-color-background);\n",
              "}\n",
              "\n",
              "#sk-container-id-1 div.sk-container {\n",
              "  /* jupyter's `normalize.less` sets `[hidden] { display: none; }`\n",
              "     but bootstrap.min.css set `[hidden] { display: none !important; }`\n",
              "     so we also need the `!important` here to be able to override the\n",
              "     default hidden behavior on the sphinx rendered scikit-learn.org.\n",
              "     See: https://github.com/scikit-learn/scikit-learn/issues/21755 */\n",
              "  display: inline-block !important;\n",
              "  position: relative;\n",
              "}\n",
              "\n",
              "#sk-container-id-1 div.sk-text-repr-fallback {\n",
              "  display: none;\n",
              "}\n",
              "\n",
              "div.sk-parallel-item,\n",
              "div.sk-serial,\n",
              "div.sk-item {\n",
              "  /* draw centered vertical line to link estimators */\n",
              "  background-image: linear-gradient(var(--sklearn-color-text-on-default-background), var(--sklearn-color-text-on-default-background));\n",
              "  background-size: 2px 100%;\n",
              "  background-repeat: no-repeat;\n",
              "  background-position: center center;\n",
              "}\n",
              "\n",
              "/* Parallel-specific style estimator block */\n",
              "\n",
              "#sk-container-id-1 div.sk-parallel-item::after {\n",
              "  content: \"\";\n",
              "  width: 100%;\n",
              "  border-bottom: 2px solid var(--sklearn-color-text-on-default-background);\n",
              "  flex-grow: 1;\n",
              "}\n",
              "\n",
              "#sk-container-id-1 div.sk-parallel {\n",
              "  display: flex;\n",
              "  align-items: stretch;\n",
              "  justify-content: center;\n",
              "  background-color: var(--sklearn-color-background);\n",
              "  position: relative;\n",
              "}\n",
              "\n",
              "#sk-container-id-1 div.sk-parallel-item {\n",
              "  display: flex;\n",
              "  flex-direction: column;\n",
              "}\n",
              "\n",
              "#sk-container-id-1 div.sk-parallel-item:first-child::after {\n",
              "  align-self: flex-end;\n",
              "  width: 50%;\n",
              "}\n",
              "\n",
              "#sk-container-id-1 div.sk-parallel-item:last-child::after {\n",
              "  align-self: flex-start;\n",
              "  width: 50%;\n",
              "}\n",
              "\n",
              "#sk-container-id-1 div.sk-parallel-item:only-child::after {\n",
              "  width: 0;\n",
              "}\n",
              "\n",
              "/* Serial-specific style estimator block */\n",
              "\n",
              "#sk-container-id-1 div.sk-serial {\n",
              "  display: flex;\n",
              "  flex-direction: column;\n",
              "  align-items: center;\n",
              "  background-color: var(--sklearn-color-background);\n",
              "  padding-right: 1em;\n",
              "  padding-left: 1em;\n",
              "}\n",
              "\n",
              "\n",
              "/* Toggleable style: style used for estimator/Pipeline/ColumnTransformer box that is\n",
              "clickable and can be expanded/collapsed.\n",
              "- Pipeline and ColumnTransformer use this feature and define the default style\n",
              "- Estimators will overwrite some part of the style using the `sk-estimator` class\n",
              "*/\n",
              "\n",
              "/* Pipeline and ColumnTransformer style (default) */\n",
              "\n",
              "#sk-container-id-1 div.sk-toggleable {\n",
              "  /* Default theme specific background. It is overwritten whether we have a\n",
              "  specific estimator or a Pipeline/ColumnTransformer */\n",
              "  background-color: var(--sklearn-color-background);\n",
              "}\n",
              "\n",
              "/* Toggleable label */\n",
              "#sk-container-id-1 label.sk-toggleable__label {\n",
              "  cursor: pointer;\n",
              "  display: block;\n",
              "  width: 100%;\n",
              "  margin-bottom: 0;\n",
              "  padding: 0.5em;\n",
              "  box-sizing: border-box;\n",
              "  text-align: center;\n",
              "}\n",
              "\n",
              "#sk-container-id-1 label.sk-toggleable__label-arrow:before {\n",
              "  /* Arrow on the left of the label */\n",
              "  content: \"▸\";\n",
              "  float: left;\n",
              "  margin-right: 0.25em;\n",
              "  color: var(--sklearn-color-icon);\n",
              "}\n",
              "\n",
              "#sk-container-id-1 label.sk-toggleable__label-arrow:hover:before {\n",
              "  color: var(--sklearn-color-text);\n",
              "}\n",
              "\n",
              "/* Toggleable content - dropdown */\n",
              "\n",
              "#sk-container-id-1 div.sk-toggleable__content {\n",
              "  max-height: 0;\n",
              "  max-width: 0;\n",
              "  overflow: hidden;\n",
              "  text-align: left;\n",
              "  /* unfitted */\n",
              "  background-color: var(--sklearn-color-unfitted-level-0);\n",
              "}\n",
              "\n",
              "#sk-container-id-1 div.sk-toggleable__content.fitted {\n",
              "  /* fitted */\n",
              "  background-color: var(--sklearn-color-fitted-level-0);\n",
              "}\n",
              "\n",
              "#sk-container-id-1 div.sk-toggleable__content pre {\n",
              "  margin: 0.2em;\n",
              "  border-radius: 0.25em;\n",
              "  color: var(--sklearn-color-text);\n",
              "  /* unfitted */\n",
              "  background-color: var(--sklearn-color-unfitted-level-0);\n",
              "}\n",
              "\n",
              "#sk-container-id-1 div.sk-toggleable__content.fitted pre {\n",
              "  /* unfitted */\n",
              "  background-color: var(--sklearn-color-fitted-level-0);\n",
              "}\n",
              "\n",
              "#sk-container-id-1 input.sk-toggleable__control:checked~div.sk-toggleable__content {\n",
              "  /* Expand drop-down */\n",
              "  max-height: 200px;\n",
              "  max-width: 100%;\n",
              "  overflow: auto;\n",
              "}\n",
              "\n",
              "#sk-container-id-1 input.sk-toggleable__control:checked~label.sk-toggleable__label-arrow:before {\n",
              "  content: \"▾\";\n",
              "}\n",
              "\n",
              "/* Pipeline/ColumnTransformer-specific style */\n",
              "\n",
              "#sk-container-id-1 div.sk-label input.sk-toggleable__control:checked~label.sk-toggleable__label {\n",
              "  color: var(--sklearn-color-text);\n",
              "  background-color: var(--sklearn-color-unfitted-level-2);\n",
              "}\n",
              "\n",
              "#sk-container-id-1 div.sk-label.fitted input.sk-toggleable__control:checked~label.sk-toggleable__label {\n",
              "  background-color: var(--sklearn-color-fitted-level-2);\n",
              "}\n",
              "\n",
              "/* Estimator-specific style */\n",
              "\n",
              "/* Colorize estimator box */\n",
              "#sk-container-id-1 div.sk-estimator input.sk-toggleable__control:checked~label.sk-toggleable__label {\n",
              "  /* unfitted */\n",
              "  background-color: var(--sklearn-color-unfitted-level-2);\n",
              "}\n",
              "\n",
              "#sk-container-id-1 div.sk-estimator.fitted input.sk-toggleable__control:checked~label.sk-toggleable__label {\n",
              "  /* fitted */\n",
              "  background-color: var(--sklearn-color-fitted-level-2);\n",
              "}\n",
              "\n",
              "#sk-container-id-1 div.sk-label label.sk-toggleable__label,\n",
              "#sk-container-id-1 div.sk-label label {\n",
              "  /* The background is the default theme color */\n",
              "  color: var(--sklearn-color-text-on-default-background);\n",
              "}\n",
              "\n",
              "/* On hover, darken the color of the background */\n",
              "#sk-container-id-1 div.sk-label:hover label.sk-toggleable__label {\n",
              "  color: var(--sklearn-color-text);\n",
              "  background-color: var(--sklearn-color-unfitted-level-2);\n",
              "}\n",
              "\n",
              "/* Label box, darken color on hover, fitted */\n",
              "#sk-container-id-1 div.sk-label.fitted:hover label.sk-toggleable__label.fitted {\n",
              "  color: var(--sklearn-color-text);\n",
              "  background-color: var(--sklearn-color-fitted-level-2);\n",
              "}\n",
              "\n",
              "/* Estimator label */\n",
              "\n",
              "#sk-container-id-1 div.sk-label label {\n",
              "  font-family: monospace;\n",
              "  font-weight: bold;\n",
              "  display: inline-block;\n",
              "  line-height: 1.2em;\n",
              "}\n",
              "\n",
              "#sk-container-id-1 div.sk-label-container {\n",
              "  text-align: center;\n",
              "}\n",
              "\n",
              "/* Estimator-specific */\n",
              "#sk-container-id-1 div.sk-estimator {\n",
              "  font-family: monospace;\n",
              "  border: 1px dotted var(--sklearn-color-border-box);\n",
              "  border-radius: 0.25em;\n",
              "  box-sizing: border-box;\n",
              "  margin-bottom: 0.5em;\n",
              "  /* unfitted */\n",
              "  background-color: var(--sklearn-color-unfitted-level-0);\n",
              "}\n",
              "\n",
              "#sk-container-id-1 div.sk-estimator.fitted {\n",
              "  /* fitted */\n",
              "  background-color: var(--sklearn-color-fitted-level-0);\n",
              "}\n",
              "\n",
              "/* on hover */\n",
              "#sk-container-id-1 div.sk-estimator:hover {\n",
              "  /* unfitted */\n",
              "  background-color: var(--sklearn-color-unfitted-level-2);\n",
              "}\n",
              "\n",
              "#sk-container-id-1 div.sk-estimator.fitted:hover {\n",
              "  /* fitted */\n",
              "  background-color: var(--sklearn-color-fitted-level-2);\n",
              "}\n",
              "\n",
              "/* Specification for estimator info (e.g. \"i\" and \"?\") */\n",
              "\n",
              "/* Common style for \"i\" and \"?\" */\n",
              "\n",
              ".sk-estimator-doc-link,\n",
              "a:link.sk-estimator-doc-link,\n",
              "a:visited.sk-estimator-doc-link {\n",
              "  float: right;\n",
              "  font-size: smaller;\n",
              "  line-height: 1em;\n",
              "  font-family: monospace;\n",
              "  background-color: var(--sklearn-color-background);\n",
              "  border-radius: 1em;\n",
              "  height: 1em;\n",
              "  width: 1em;\n",
              "  text-decoration: none !important;\n",
              "  margin-left: 1ex;\n",
              "  /* unfitted */\n",
              "  border: var(--sklearn-color-unfitted-level-1) 1pt solid;\n",
              "  color: var(--sklearn-color-unfitted-level-1);\n",
              "}\n",
              "\n",
              ".sk-estimator-doc-link.fitted,\n",
              "a:link.sk-estimator-doc-link.fitted,\n",
              "a:visited.sk-estimator-doc-link.fitted {\n",
              "  /* fitted */\n",
              "  border: var(--sklearn-color-fitted-level-1) 1pt solid;\n",
              "  color: var(--sklearn-color-fitted-level-1);\n",
              "}\n",
              "\n",
              "/* On hover */\n",
              "div.sk-estimator:hover .sk-estimator-doc-link:hover,\n",
              ".sk-estimator-doc-link:hover,\n",
              "div.sk-label-container:hover .sk-estimator-doc-link:hover,\n",
              ".sk-estimator-doc-link:hover {\n",
              "  /* unfitted */\n",
              "  background-color: var(--sklearn-color-unfitted-level-3);\n",
              "  color: var(--sklearn-color-background);\n",
              "  text-decoration: none;\n",
              "}\n",
              "\n",
              "div.sk-estimator.fitted:hover .sk-estimator-doc-link.fitted:hover,\n",
              ".sk-estimator-doc-link.fitted:hover,\n",
              "div.sk-label-container:hover .sk-estimator-doc-link.fitted:hover,\n",
              ".sk-estimator-doc-link.fitted:hover {\n",
              "  /* fitted */\n",
              "  background-color: var(--sklearn-color-fitted-level-3);\n",
              "  color: var(--sklearn-color-background);\n",
              "  text-decoration: none;\n",
              "}\n",
              "\n",
              "/* Span, style for the box shown on hovering the info icon */\n",
              ".sk-estimator-doc-link span {\n",
              "  display: none;\n",
              "  z-index: 9999;\n",
              "  position: relative;\n",
              "  font-weight: normal;\n",
              "  right: .2ex;\n",
              "  padding: .5ex;\n",
              "  margin: .5ex;\n",
              "  width: min-content;\n",
              "  min-width: 20ex;\n",
              "  max-width: 50ex;\n",
              "  color: var(--sklearn-color-text);\n",
              "  box-shadow: 2pt 2pt 4pt #999;\n",
              "  /* unfitted */\n",
              "  background: var(--sklearn-color-unfitted-level-0);\n",
              "  border: .5pt solid var(--sklearn-color-unfitted-level-3);\n",
              "}\n",
              "\n",
              ".sk-estimator-doc-link.fitted span {\n",
              "  /* fitted */\n",
              "  background: var(--sklearn-color-fitted-level-0);\n",
              "  border: var(--sklearn-color-fitted-level-3);\n",
              "}\n",
              "\n",
              ".sk-estimator-doc-link:hover span {\n",
              "  display: block;\n",
              "}\n",
              "\n",
              "/* \"?\"-specific style due to the `<a>` HTML tag */\n",
              "\n",
              "#sk-container-id-1 a.estimator_doc_link {\n",
              "  float: right;\n",
              "  font-size: 1rem;\n",
              "  line-height: 1em;\n",
              "  font-family: monospace;\n",
              "  background-color: var(--sklearn-color-background);\n",
              "  border-radius: 1rem;\n",
              "  height: 1rem;\n",
              "  width: 1rem;\n",
              "  text-decoration: none;\n",
              "  /* unfitted */\n",
              "  color: var(--sklearn-color-unfitted-level-1);\n",
              "  border: var(--sklearn-color-unfitted-level-1) 1pt solid;\n",
              "}\n",
              "\n",
              "#sk-container-id-1 a.estimator_doc_link.fitted {\n",
              "  /* fitted */\n",
              "  border: var(--sklearn-color-fitted-level-1) 1pt solid;\n",
              "  color: var(--sklearn-color-fitted-level-1);\n",
              "}\n",
              "\n",
              "/* On hover */\n",
              "#sk-container-id-1 a.estimator_doc_link:hover {\n",
              "  /* unfitted */\n",
              "  background-color: var(--sklearn-color-unfitted-level-3);\n",
              "  color: var(--sklearn-color-background);\n",
              "  text-decoration: none;\n",
              "}\n",
              "\n",
              "#sk-container-id-1 a.estimator_doc_link.fitted:hover {\n",
              "  /* fitted */\n",
              "  background-color: var(--sklearn-color-fitted-level-3);\n",
              "}\n",
              "</style><div id=\"sk-container-id-1\" class=\"sk-top-container\"><div class=\"sk-text-repr-fallback\"><pre>MLPClassifier()</pre><b>In a Jupyter environment, please rerun this cell to show the HTML representation or trust the notebook. <br />On GitHub, the HTML representation is unable to render, please try loading this page with nbviewer.org.</b></div><div class=\"sk-container\" hidden><div class=\"sk-item\"><div class=\"sk-estimator fitted sk-toggleable\"><input class=\"sk-toggleable__control sk-hidden--visually\" id=\"sk-estimator-id-1\" type=\"checkbox\" checked><label for=\"sk-estimator-id-1\" class=\"sk-toggleable__label fitted sk-toggleable__label-arrow fitted\">&nbsp;&nbsp;MLPClassifier<a class=\"sk-estimator-doc-link fitted\" rel=\"noreferrer\" target=\"_blank\" href=\"https://scikit-learn.org/1.4/modules/generated/sklearn.neural_network.MLPClassifier.html\">?<span>Documentation for MLPClassifier</span></a><span class=\"sk-estimator-doc-link fitted\">i<span>Fitted</span></span></label><div class=\"sk-toggleable__content fitted\"><pre>MLPClassifier()</pre></div> </div></div></div></div>"
            ],
            "text/plain": [
              "MLPClassifier()"
            ]
          },
          "execution_count": 7,
          "metadata": {},
          "output_type": "execute_result"
        }
      ],
      "source": [
        "print(y_train.iloc[:,0].values)\n",
        "print(X_train)\n",
        "instancia_red.fit(X_train, y_train.iloc[:,0].values)"
      ]
    },
    {
      "cell_type": "markdown",
      "metadata": {
        "id": "aHnYflNuQHkY"
      },
      "source": [
        "## Imprime las predicciones en testing"
      ]
    },
    {
      "cell_type": "code",
      "execution_count": null,
      "metadata": {
        "id": "nQycNNpOQHkY",
        "outputId": "83db2f19-81ea-4c90-d686-59e006249fbc"
      },
      "outputs": [
        {
          "name": "stdout",
          "output_type": "stream",
          "text": [
            "Las predicciones en Teating son: ['virginica' 'versicolor' 'setosa' 'virginica' 'setosa' 'virginica'\n",
            " 'setosa' 'versicolor' 'versicolor' 'versicolor' 'virginica' 'versicolor'\n",
            " 'versicolor' 'versicolor' 'versicolor' 'setosa' 'versicolor' 'versicolor'\n",
            " 'setosa' 'setosa' 'virginica' 'virginica' 'setosa' 'setosa' 'virginica'\n",
            " 'setosa' 'setosa' 'versicolor' 'versicolor' 'setosa' 'virginica'\n",
            " 'virginica' 'setosa' 'virginica' 'virginica' 'versicolor' 'setosa'\n",
            " 'virginica' 'versicolor' 'versicolor' 'virginica' 'setosa' 'virginica'\n",
            " 'setosa' 'setosa']\n"
          ]
        }
      ],
      "source": [
        "print(\"Las predicciones en Teating son: {}\".format(instancia_red.predict(X_test)))"
      ]
    },
    {
      "cell_type": "markdown",
      "metadata": {
        "id": "9Oos98ysQHkY"
      },
      "source": [
        "## Funcion para calcular los indices de calidad de la preduccion"
      ]
    },
    {
      "cell_type": "code",
      "execution_count": null,
      "metadata": {
        "id": "bXgo1y7xQHkY"
      },
      "outputs": [],
      "source": [
        "def indices_general(MC, nombres = None):\n",
        "    precision_global = np.sum(MC.diagonal())/np.sum(MC)\n",
        "    error_global = 1 - precision_global\n",
        "    precision_categoria = pd.DataFrame(MC.diagonal()/np.sum(MC, axis=1)).T\n",
        "    if nombres != None:\n",
        "        precision_categoria.columns = nombres\n",
        "    return {\"Matriz de confucion\":MC,\n",
        "            \"Precision Global\": precision_global,\n",
        "            \"Error Global\": error_global,\n",
        "            \"Precision por categoria\": precision_categoria}\n"
      ]
    },
    {
      "cell_type": "markdown",
      "metadata": {
        "id": "oKiLmRnkQHkY"
      },
      "source": [
        "## Indices de calidad del modelo"
      ]
    },
    {
      "cell_type": "code",
      "execution_count": null,
      "metadata": {
        "id": "sWT27pd7QHkY",
        "outputId": "cc9bfdf6-87f7-4de8-aae3-637aa409dd0d"
      },
      "outputs": [
        {
          "name": "stdout",
          "output_type": "stream",
          "text": [
            "\n",
            "Matriz de confucion:\n",
            "[[16  0  0]\n",
            " [ 0 15  3]\n",
            " [ 0  0 11]]\n",
            "\n",
            "Precision Global:\n",
            "0.9333333333333333\n",
            "\n",
            "Error Global:\n",
            "0.06666666666666665\n",
            "\n",
            "Precision por categoria:\n",
            "   setosa  versicolor  virginica\n",
            "0     1.0    0.833333        1.0\n"
          ]
        }
      ],
      "source": [
        "prediccion = instancia_red.predict(X_test)\n",
        "MC = confusion_matrix(y_test, prediccion)\n",
        "indices = indices_general(MC,list(np.unique(y)))\n",
        "\n",
        "for k in indices:\n",
        "    print(\"\\n%s:\\n%s\"%(k, str(indices[k])))"
      ]
    },
    {
      "cell_type": "markdown",
      "metadata": {
        "id": "3eNxkZupQHkY"
      },
      "source": [
        "# Conclusion"
      ]
    },
    {
      "cell_type": "markdown",
      "metadata": {
        "id": "c79UHkb1QHkY"
      },
      "source": [
        "En esta práctica, utilizamos un algoritmo de aprendizaje automático para clasificar clases no lineales, implementando una Red Neuronal con Retropropagación (NNBP). La NNBP se usó para clasificar diferentes especies de la flor iris: setosa, versicolor y virginica. Las características consideradas fueron la longitud y el ancho del pétalo, así como la longitud y el ancho del sépalo."
      ]
    },
    {
      "cell_type": "markdown",
      "metadata": {
        "id": "dVEdtDIHQHkY"
      },
      "source": [
        "##Referencias\n",
        "### https: SCIKIT-LEARN (Machine Learning in Python 2024) https://scikit-learn.org/stable/modules/generated/sklearn.neural_network.MLPClassifier.htm#sklearn.neural_network.MLPClassifier"
      ]
    }
  ],
  "metadata": {
    "kernelspec": {
      "display_name": "Python 3 (ipykernel)",
      "language": "python",
      "name": "python3"
    },
    "language_info": {
      "codemirror_mode": {
        "name": "ipython",
        "version": 3
      },
      "file_extension": ".py",
      "mimetype": "text/x-python",
      "name": "python",
      "nbconvert_exporter": "python",
      "pygments_lexer": "ipython3",
      "version": "3.12.4"
    },
    "colab": {
      "provenance": []
    }
  },
  "nbformat": 4,
  "nbformat_minor": 0
}