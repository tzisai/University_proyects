{
  "nbformat": 4,
  "nbformat_minor": 0,
  "metadata": {
    "colab": {
      "provenance": []
    },
    "kernelspec": {
      "name": "python3",
      "display_name": "Python 3"
    },
    "language_info": {
      "name": "python"
    }
  },
  "cells": [
    {
      "cell_type": "markdown",
      "source": [
        "##Universidad Autonoma de Aguascalientes\n",
        "##Depoartamento de Ciencias de la Computacion\n",
        "##Carrera Ingenieria en Computacopn Inteligente\n",
        "##Curso Inteligencia Artificial (McCollouc Pitts)\n",
        "##Maestro: Dr. Francisco Javier Luna Rosas\n",
        "##Alumno: Martin Isai Nuñez Villeda\n",
        "##semestre :Agosto_Diciembre del 2024\n",
        "\n",
        "##Practica 2#\n"
      ],
      "metadata": {
        "id": "9VcFDc-aHA8-"
      }
    },
    {
      "cell_type": "markdown",
      "source": [
        "insertamos la librerias necesarias"
      ],
      "metadata": {
        "id": "sp4agEvnHGhk"
      }
    },
    {
      "cell_type": "code",
      "execution_count": 1,
      "metadata": {
        "id": "dVO4SZsLG70Z"
      },
      "outputs": [],
      "source": [
        "import numpy as np"
      ]
    },
    {
      "cell_type": "markdown",
      "source": [
        "hacemos la funcion de la neurona con el comportamiento del NOT logico"
      ],
      "metadata": {
        "id": "2HHcQJHaHMAN"
      }
    },
    {
      "cell_type": "code",
      "source": [
        "def mccllouch_pitts_NOT (x1):\n",
        "    #pesos de entrada\n",
        "    w1=1\n",
        "\n",
        "    #umbral\n",
        "    teta=0\n",
        "\n",
        "    #suma ponderada de entradas\n",
        "    weight_sum=x1*w1\n",
        "\n",
        "    #salida de la celula\n",
        "    if weight_sum<=teta:\n",
        "        return 1\n",
        "    else:\n",
        "        return 0"
      ],
      "metadata": {
        "id": "PaDYIHbnHSUT"
      },
      "execution_count": 2,
      "outputs": []
    },
    {
      "cell_type": "markdown",
      "source": [
        "llamamos a la funcion o en este caso la neurona par poder ver los resultados de los pesos y el comprtamiento correcto de la neurona"
      ],
      "metadata": {
        "id": "uG6LAib2HUp-"
      }
    },
    {
      "cell_type": "code",
      "source": [
        "print(mccllouch_pitts_NOT(1))\n",
        "print(mccllouch_pitts_NOT(0))\n"
      ],
      "metadata": {
        "colab": {
          "base_uri": "https://localhost:8080/"
        },
        "id": "LrEQX6BsHdfr",
        "outputId": "c2db1b2c-9fff-48ce-b9cb-74169e6eecb7"
      },
      "execution_count": 3,
      "outputs": [
        {
          "output_type": "stream",
          "name": "stdout",
          "text": [
            "0\n",
            "1\n"
          ]
        }
      ]
    },
    {
      "cell_type": "markdown",
      "source": [
        "Realizamos una neurona que se comporta como una compuerta logica NOT daando enfasis en que este modelo de neurona fucniona cuando los resultados son linealmente separables y haciendo un buen manejo de los pesos de entrada e umbral"
      ],
      "metadata": {
        "id": "Oa2QwzroHfVO"
      }
    }
  ]
}